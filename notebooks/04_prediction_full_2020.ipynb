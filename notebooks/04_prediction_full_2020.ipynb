{
 "cells": [
  {
   "cell_type": "markdown",
   "id": "aef86a55",
   "metadata": {},
   "source": [
    "**Import des données**"
   ]
  },
  {
   "cell_type": "code",
   "execution_count": null,
   "id": "531fd7be",
   "metadata": {
    "vscode": {
     "languageId": "plaintext"
    }
   },
   "outputs": [],
   "source": [
    "# 📦 Imports\n",
    "import pandas as pd\n",
    "pd.set_option('display.max_columns', None)\n",
    "import numpy as np\n",
    "import matplotlib.pyplot as plt\n",
    "import seaborn as sns"
   ]
  }
 ],
 "metadata": {
  "language_info": {
   "name": "python"
  }
 },
 "nbformat": 4,
 "nbformat_minor": 5
}
