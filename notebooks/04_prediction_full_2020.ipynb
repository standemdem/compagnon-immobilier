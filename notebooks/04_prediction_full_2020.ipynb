{
 "cells": [
  {
   "cell_type": "markdown",
   "id": "aef86a55",
   "metadata": {},
   "source": [
    "**Import des données**"
   ]
  },
  {
   "cell_type": "code",
   "execution_count": 1,
   "id": "531fd7be",
   "metadata": {},
   "outputs": [],
   "source": [
    "# 📦 Imports\n",
    "import pandas as pd\n",
    "pd.set_option('display.max_columns', None)\n",
    "import numpy as np\n",
    "import matplotlib.pyplot as plt\n",
    "import seaborn as sns\n",
    "\n",
    "df = pd.read_parquet('../data/parquet/full_2020.csv.parquet', engine='pyarrow')"
   ]
  },
  {
   "cell_type": "markdown",
   "id": "354ec439",
   "metadata": {},
   "source": [
    "**Optimisation**"
   ]
  },
  {
   "cell_type": "code",
   "execution_count": 2,
   "id": "21bea337",
   "metadata": {},
   "outputs": [
    {
     "name": "stdout",
     "output_type": "stream",
     "text": [
      "Shape after dropping columns: (3522416, 27)\n",
      "💾 Mémoire utilisée : 3168.84 Mo → 943.55 Mo (70.2% gagné)\n",
      "<class 'pandas.core.frame.DataFrame'>\n",
      "RangeIndex: 3522416 entries, 0 to 3522415\n",
      "Data columns (total 27 columns):\n",
      " #   Column                        Dtype         \n",
      "---  ------                        -----         \n",
      " 0   id_mutation                   object        \n",
      " 1   date_mutation                 datetime64[ns]\n",
      " 2   numero_disposition            int32         \n",
      " 3   nature_mutation               category      \n",
      " 4   valeur_fonciere               float32       \n",
      " 5   adresse_numero                float32       \n",
      " 6   adresse_suffixe               category      \n",
      " 7   adresse_nom_voie              object        \n",
      " 8   adresse_code_voie             category      \n",
      " 9   code_postal                   float32       \n",
      " 10  code_commune                  category      \n",
      " 11  nom_commune                   category      \n",
      " 12  code_departement              category      \n",
      " 13  id_parcelle                   object        \n",
      " 14  numero_volume                 category      \n",
      " 15  nombre_lots                   int32         \n",
      " 16  code_type_local               float32       \n",
      " 17  type_local                    category      \n",
      " 18  surface_reelle_bati           float32       \n",
      " 19  nombre_pieces_principales     float32       \n",
      " 20  code_nature_culture           category      \n",
      " 21  nature_culture                category      \n",
      " 22  code_nature_culture_speciale  category      \n",
      " 23  nature_culture_speciale       category      \n",
      " 24  surface_terrain               float32       \n",
      " 25  longitude                     float32       \n",
      " 26  latitude                      float32       \n",
      "dtypes: category(12), datetime64[ns](1), float32(9), int32(2), object(3)\n",
      "memory usage: 312.2+ MB\n"
     ]
    }
   ],
   "source": [
    "# Liste des colonnes à supprimer (remplissage < 10%)\n",
    "cols_to_drop_1 = [\n",
    "    'ancien_code_commune', 'ancien_nom_commune', 'ancien_id_parcelle',\n",
    "    'lot1_numero', 'lot1_surface_carrez', 'lot2_numero', 'lot2_surface_carrez',\n",
    "    'lot3_numero', 'lot3_surface_carrez', 'lot4_numero', 'lot4_surface_carrez',\n",
    "    'lot5_numero', 'lot5_surface_carrez'\n",
    "]\n",
    "# Liste des colonnes avec infos inutiles\n",
    "cols_to_drop_2 = [\n",
    "    'id_mutation', 'numero_disposition', 'adresse_numero', 'adresse_suffixe',\n",
    "    'adresse_nom_voie', 'adresse_code_voie', 'nom_commune', 'id_parcelle',\n",
    "    'numero_volume', 'code_nature_culture', 'nature_culture','code_nature_culture_speciale'\n",
    "]\n",
    "df.drop(columns=cols_to_drop_1, inplace=True)\n",
    "# Vérification des colonnes restantes\n",
    "print(f\"Shape after dropping columns: {df.shape}\")\n",
    "\n",
    "def optimize_dataframe(df, parse_dates=None, category_thresh=0.05, verbose=True):\n",
    "    \"\"\"\n",
    "    Optimise les types d'un DataFrame pour réduire l'utilisation mémoire :\n",
    "    - convertit les objets en catégories si nombre de modalités faible\n",
    "    - convertit les float64 en float32\n",
    "    - convertit les int64 en int32\n",
    "    - convertit les colonnes de dates\n",
    "\n",
    "    Parameters:\n",
    "    - df : DataFrame à optimiser\n",
    "    - parse_dates : liste de colonnes à parser comme dates\n",
    "    - category_thresh : seuil max de ratio modalité/nb lignes pour transformer en 'category'\n",
    "    - verbose : affiche la mémoire gagnée\n",
    "\n",
    "    Returns:\n",
    "    - df optimisé\n",
    "    \"\"\"\n",
    "\n",
    "    initial_memory = df.memory_usage(deep=True).sum() / 1024**2\n",
    "\n",
    "    # Dates\n",
    "    if parse_dates:\n",
    "        for col in parse_dates:\n",
    "            df[col] = pd.to_datetime(df[col], errors='coerce')\n",
    "\n",
    "    # Float → float32\n",
    "    float_cols = df.select_dtypes(include=['float64']).columns\n",
    "    for col in float_cols:\n",
    "        df[col] = df[col].astype('float32')\n",
    "\n",
    "    # Int → int32\n",
    "    int_cols = df.select_dtypes(include=['int64']).columns\n",
    "    for col in int_cols:\n",
    "        if df[col].isnull().any():\n",
    "            df[col] = df[col].astype('Int32')\n",
    "        else:\n",
    "            df[col] = df[col].astype('int32')\n",
    "\n",
    "    # Object → category si peu de modalités\n",
    "    for col in df.select_dtypes(include='object').columns:\n",
    "        if df[col].nunique(dropna=False) / len(df) <= category_thresh:\n",
    "            df[col] = df[col].astype('category')\n",
    "\n",
    "    final_memory = df.memory_usage(deep=True).sum() / 1024**2\n",
    "\n",
    "    if verbose:\n",
    "        print(f\"💾 Mémoire utilisée : {initial_memory:.2f} Mo → {final_memory:.2f} Mo ({100 * (1 - final_memory/initial_memory):.1f}% gagné)\")\n",
    "\n",
    "    return df\n",
    "\n",
    "# Application test sur ech_annonces_ventes_68.csv\n",
    "optimized_df1 = optimize_dataframe(df, parse_dates=['date_mutation'], verbose=True)\n",
    "optimized_df1.info()\n",
    "\n"
   ]
  },
  {
   "cell_type": "markdown",
   "id": "cc0a07eb",
   "metadata": {},
   "source": [
    "**Pré processing**"
   ]
  },
  {
   "cell_type": "code",
   "execution_count": 3,
   "id": "eb6060c0",
   "metadata": {},
   "outputs": [
    {
     "name": "stdout",
     "output_type": "stream",
     "text": [
      "<class 'pandas.core.frame.DataFrame'>\n",
      "RangeIndex: 3522416 entries, 0 to 3522415\n",
      "Data columns (total 20 columns):\n",
      " #   Column                     Dtype         \n",
      "---  ------                     -----         \n",
      " 0   id_mutation                object        \n",
      " 1   date_mutation              datetime64[ns]\n",
      " 2   numero_disposition         int32         \n",
      " 3   nature_mutation            category      \n",
      " 4   valeur_fonciere            float32       \n",
      " 5   code_commune               category      \n",
      " 6   code_departement           category      \n",
      " 7   id_parcelle                object        \n",
      " 8   nombre_lots                int32         \n",
      " 9   code_type_local            float32       \n",
      " 10  type_local                 category      \n",
      " 11  surface_reelle_bati        float32       \n",
      " 12  nombre_pieces_principales  float32       \n",
      " 13  code_nature_culture        category      \n",
      " 14  nature_culture             category      \n",
      " 15  surface_terrain            float32       \n",
      " 16  longitude                  float32       \n",
      " 17  latitude                   float32       \n",
      " 18  commune_freq               int64         \n",
      " 19  coordonnees                object        \n",
      "dtypes: category(6), datetime64[ns](1), float32(7), int32(2), int64(1), object(3)\n",
      "memory usage: 280.1+ MB\n"
     ]
    }
   ],
   "source": [
    "# optimized_df1 = optimized_df1.dropna()\n",
    "optimized_df1.head()\n",
    "\n",
    "# Le but est de voir si la commune est grande ou petite en fonction du nombre d'apparition dans le tableau\n",
    "commune_freq = optimized_df1['nom_commune'].value_counts()\n",
    "optimized_df1['commune_freq'] = optimized_df1['nom_commune'].map(commune_freq)\n",
    "\n",
    "optimized_df1 = optimized_df1.drop(['adresse_numero', 'adresse_suffixe', 'adresse_nom_voie','adresse_code_voie', 'code_postal', 'nom_commune','numero_volume','nature_culture_speciale','code_nature_culture_speciale'], axis=1)\n",
    "\n",
    "optimized_df1['coordonnees'] = list(zip(optimized_df1['latitude'], optimized_df1['longitude']))\n",
    "\n",
    "\n",
    "optimized_df1.info()"
   ]
  },
  {
   "cell_type": "markdown",
   "id": "ff4e52c0",
   "metadata": {},
   "source": [
    "**Encoding**"
   ]
  },
  {
   "cell_type": "code",
   "execution_count": 4,
   "id": "37397c76",
   "metadata": {},
   "outputs": [],
   "source": [
    "optimized_df1['code_type_local'] = optimized_df1['code_type_local'].fillna(0)\n",
    "optimized_df1['code_type_local'] = optimized_df1['code_type_local'].astype(int)\n",
    "# Valeur possible Naan,1,2,3,4  -> valeur encodé 0,1,2,3,4\n",
    "\n",
    "\n",
    "optimized_df1['type_local'] = optimized_df1['type_local'].astype('string')\n",
    "optimized_df1['type_local'] = optimized_df1['type_local'].fillna('Inconnu')\n",
    "categories = ['Inconnu', 'Maison', 'Appartement', 'Dépendance', 'Local industriel. commercial ou assimilé']\n",
    "optimized_df1['type_local'] = pd.Categorical(optimized_df1['type_local'], categories=categories)\n",
    "optimized_df1['type_local'] = optimized_df1['type_local'].cat.codes\n",
    "# Inconnu -> 0, 'Maison' -> 1, 'Appartement' -> 2, 'Dépendance' -> 3, 'Local industriel. commercial ou assimilé' -> 4\n",
    "\n",
    "\n",
    "optimized_df1['nature_mutation'] = optimized_df1['nature_mutation'].astype('string')\n",
    "categories = ['Vente', 'Vente terrain à bâtir', 'Echange', \"Vente en l'état futur d'achèvement\", 'Adjudication','Expropriation']\n",
    "optimized_df1['nature_mutation'] = pd.Categorical(optimized_df1['nature_mutation'], categories=categories)\n",
    "optimized_df1['nature_mutation'] = optimized_df1['nature_mutation'].cat.codes\n",
    "# Vente -> 0, 'Vente terrain à bâtir' -> 1, 'Echange' -> 2, 'Vente en l'état futur d'achèvement' -> 3, 'Adjudication' -> 4, 'Expropriation' -> 5\n",
    "\n",
    "\n",
    "optimized_df1['code_nature_culture'] = optimized_df1['code_nature_culture'].astype('string')\n",
    "optimized_df1['code_nature_culture'] = optimized_df1['code_nature_culture'].fillna(0)\n",
    "categories = [ 0,'T', 'BT', 'AB', 'S', 'J', 'P', 'BS', 'AG', 'L', 'VI', 'VE', 'BP', 'CH', 'BR', 'E', 'BF', 'CA', 'B', 'PA', 'BM', 'BO', 'PP', 'PC', 'TP', 'LB', 'PH', 'PE']\n",
    "optimized_df1['code_nature_culture'] = pd.Categorical(optimized_df1['code_nature_culture'], categories=categories)\n",
    "optimized_df1['code_nature_culture'] = optimized_df1['code_nature_culture'].cat.codes\n",
    "# 0 -> 0, 1 -> 'T', 2 -> 'BT', 3 -> 'AB', 4 -> 'S', 5 -> 'J', 6 -> 'P', 7 -> 'BS', 8 -> 'AG', 9 -> 'L', 10 -> 'VI', 11 -> 'VE', 12 -> 'BP', 13 -> 'CH', 14 -> 'BR', 15 -> 'E', 16 -> 'BF', 17 -> 'CA', 18 -> 'B', 19 -> 'PA', 20 -> 'BM', 21 -> 'BO', 22 -> 'PP', 23 -> 'PC', 24 -> 'TP', 25 -> 'LB', 26 -> 'PH', 27 -> 'PE'\n",
    "\n",
    "optimized_df1['nature_culture'] = optimized_df1['nature_culture'].astype('string')\n",
    "optimized_df1['nature_culture'] = optimized_df1['nature_culture'].fillna(0)\n",
    "categories = [ 0,'terres', 'taillis simples', 'terrains a bâtir', 'sols', 'jardins', 'prés', 'taillis sous futaie', \"terrains d'agrément\", 'landes', 'vignes', 'vergers', 'peupleraies', 'chemin de fer', 'futaies résineuses', 'eaux', 'futaies feuillues', 'carrières', 'bois', 'pâtures', 'futaies mixtes', 'oseraies', 'prés plantes', 'pacages', 'terres plantées', 'landes boisées', 'herbages', \"prés d'embouche\"]\n",
    "optimized_df1['nature_culture'] = pd.Categorical(optimized_df1['nature_culture'], categories=categories)\n",
    "optimized_df1['nature_culture'] = optimized_df1['nature_culture'].cat.codes\n",
    "# 0 -> 0, 1 -> 'terres', 2 -> 'taillis simples', 3 -> 'terrains a bâtir', 4 -> 'sols', 5 -> 'jardins', 6 -> 'prés', 7 -> 'taillis sous futaie', 8 -> \"terrains d'agrément\", 9 -> 'landes', 10 -> 'vignes', 11 -> 'vergers', 12 -> 'peupleraies', 13 -> 'chemin de fer', 14 -> 'futaies résineuses', 15 -> 'eaux', 16 -> 'futaies feuillues', 17 -> 'carrières', 18 -> 'bois', 19 -> 'pâtures', 20 -> 'futaies mixtes', 21 -> 'oseraies', 22 -> 'prés plantes', 23 -> 'pacages', 24 -> 'terres plantées', 25 -> 'landes boisées', 26 -> 'herbages', 27 -> \"prés d'embouche\""
   ]
  },
  {
   "cell_type": "markdown",
   "id": "d7106c8b",
   "metadata": {},
   "source": [
    "**Post DropNa**"
   ]
  },
  {
   "cell_type": "code",
   "execution_count": 5,
   "id": "e4788153",
   "metadata": {},
   "outputs": [
    {
     "name": "stdout",
     "output_type": "stream",
     "text": [
      "commune_freq                 0.352145\n",
      "surface_terrain              0.261448\n",
      "surface_reelle_bati          0.221233\n",
      "code_type_local              0.209986\n",
      "type_local                   0.209986\n",
      "nombre_pieces_principales    0.124774\n",
      "longitude                    0.096420\n",
      "latitude                    -0.082885\n",
      "nature_culture               0.051102\n",
      "code_nature_culture          0.051102\n",
      "numero_disposition          -0.015459\n",
      "nature_mutation             -0.014929\n",
      "nombre_lots                  0.013429\n",
      "Name: valeur_fonciere, dtype: float64\n"
     ]
    }
   ],
   "source": [
    "optimized_df1 = optimized_df1.dropna()\n",
    "optimized_df1optimized_df1 = optimized_df1.dropna()\n",
    "\n",
    "\n",
    "# Corrélation de Spearman\n",
    "spearman_corr = optimized_df1.corr(method='spearman', numeric_only=True)\n",
    "\n",
    "# Extraire les corrélations avec 'valeur_fonciere' uniquement\n",
    "valeur_corr_spearman = spearman_corr['valeur_fonciere'].drop('valeur_fonciere')\n",
    "\n",
    "# Trier par valeur absolue (décroissant)\n",
    "valeur_corr_spearman_sorted = valeur_corr_spearman.reindex(valeur_corr_spearman.abs().sort_values(ascending=False).index)\n",
    "\n",
    "# Affichage\n",
    "print(valeur_corr_spearman_sorted)"
   ]
  },
  {
   "cell_type": "code",
   "execution_count": 6,
   "id": "0a1a66de",
   "metadata": {},
   "outputs": [
    {
     "ename": "NameError",
     "evalue": "name 'correlation_matrix' is not defined",
     "output_type": "error",
     "traceback": [
      "\u001b[0;31m---------------------------------------------------------------------------\u001b[0m",
      "\u001b[0;31mNameError\u001b[0m                                 Traceback (most recent call last)",
      "Cell \u001b[0;32mIn[6], line 6\u001b[0m\n\u001b[1;32m      3\u001b[0m dfFirstTenta\n\u001b[1;32m      5\u001b[0m \u001b[38;5;66;03m# Corrélation de Pearson avec 'valeur_fonciere'\u001b[39;00m\n\u001b[0;32m----> 6\u001b[0m valeur_corr \u001b[38;5;241m=\u001b[39m \u001b[43mcorrelation_matrix\u001b[49m[\u001b[38;5;124m'\u001b[39m\u001b[38;5;124mvaleur_fonciere\u001b[39m\u001b[38;5;124m'\u001b[39m]\u001b[38;5;241m.\u001b[39mdrop(\u001b[38;5;124m'\u001b[39m\u001b[38;5;124mvaleur_fonciere\u001b[39m\u001b[38;5;124m'\u001b[39m)\n\u001b[1;32m      8\u001b[0m \u001b[38;5;66;03m# Trier par ordre décroissant de valeur absolue\u001b[39;00m\n\u001b[1;32m      9\u001b[0m valeur_corr_sorted \u001b[38;5;241m=\u001b[39m valeur_corr\u001b[38;5;241m.\u001b[39mreindex(valeur_corr\u001b[38;5;241m.\u001b[39mabs()\u001b[38;5;241m.\u001b[39msort_values(ascending\u001b[38;5;241m=\u001b[39m\u001b[38;5;28;01mFalse\u001b[39;00m)\u001b[38;5;241m.\u001b[39mindex)\n",
      "\u001b[0;31mNameError\u001b[0m: name 'correlation_matrix' is not defined"
     ]
    }
   ],
   "source": [
    "colonnes_choisies = ['valeur_fonciere', 'surface_terrain', 'surface_reelle_bati', 'type_local', 'code_type_local', 'nombre_pieces_principales', 'coordonnees', 'commune_freq', 'nombre_lots']\n",
    "dfFirstTenta = optimized_df1[colonnes_choisies].copy()\n",
    "dfFirstTenta\n",
    "\n",
    "# Corrélation de Pearson avec 'valeur_fonciere'\n",
    "valeur_corr = correlation_matrix['valeur_fonciere'].drop('valeur_fonciere')\n",
    "\n",
    "# Trier par ordre décroissant de valeur absolue\n",
    "valeur_corr_sorted = valeur_corr.reindex(valeur_corr.abs().sort_values(ascending=False).index)\n",
    "\n",
    "\n",
    "# Visualiser avec une heatmap\n",
    "plt.figure(figsize=(12, 10))\n",
    "sns.heatmap(correlation_matrix, annot=True, fmt=\".2f\", cmap='coolwarm', cbar=True)\n",
    "plt.title(\"Matrice de Corrélation de Pearson\")\n",
    "plt.show()"
   ]
  },
  {
   "cell_type": "code",
   "execution_count": null,
   "id": "5dd6bd4b",
   "metadata": {},
   "outputs": [],
   "source": []
  }
 ],
 "metadata": {
  "kernelspec": {
   "display_name": "venv",
   "language": "python",
   "name": "python3"
  },
  "language_info": {
   "codemirror_mode": {
    "name": "ipython",
    "version": 3
   },
   "file_extension": ".py",
   "mimetype": "text/x-python",
   "name": "python",
   "nbconvert_exporter": "python",
   "pygments_lexer": "ipython3",
   "version": "3.10.12"
  }
 },
 "nbformat": 4,
 "nbformat_minor": 5
}
